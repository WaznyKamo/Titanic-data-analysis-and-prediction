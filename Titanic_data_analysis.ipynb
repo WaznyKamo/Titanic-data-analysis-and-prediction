{
  "nbformat": 4,
  "nbformat_minor": 0,
  "metadata": {
    "colab": {
      "name": "Titanic-data-analysis.ipynb",
      "provenance": [],
      "collapsed_sections": [],
      "authorship_tag": "ABX9TyMQKhstOCn8nzlBTOBntcal",
      "include_colab_link": true
    },
    "kernelspec": {
      "name": "python3",
      "display_name": "Python 3"
    },
    "language_info": {
      "name": "python"
    }
  },
  "cells": [
    {
      "cell_type": "markdown",
      "metadata": {
        "id": "view-in-github",
        "colab_type": "text"
      },
      "source": [
        "<a href=\"https://colab.research.google.com/github/WaznyKamo/Titanic-data-analysis-and-prediction/blob/main/Titanic_data_analysis.ipynb\" target=\"_parent\"><img src=\"https://colab.research.google.com/assets/colab-badge.svg\" alt=\"Open In Colab\"/></a>"
      ]
    },
    {
      "cell_type": "code",
      "metadata": {
        "id": "L8NRzZQ_smjv"
      },
      "source": [
        "import pandas as pd\n",
        "import matplotlib.pyplot as plt\n",
        "import seaborn as sns\n",
        "import numpy as np\n",
        "np.warnings.filterwarnings('ignore', category=np.VisibleDeprecationWarning)"
      ],
      "execution_count": 33,
      "outputs": []
    },
    {
      "cell_type": "code",
      "metadata": {
        "id": "1IGH_4NfsbE6"
      },
      "source": [
        "url = \"https://www.mlgdansk.pl/wp-content/uploads/2019/05/titanic_data.csv\"\n",
        "\n",
        "titanic_df = pd.read_csv(url)\n",
        "\n",
        "#changing column names to be written in uppercase (just for convenience)\n",
        "titanic_df.columns = map(str.upper, titanic_df.columns)"
      ],
      "execution_count": 2,
      "outputs": []
    },
    {
      "cell_type": "markdown",
      "metadata": {
        "id": "bUX8wzanzMPS"
      },
      "source": [
        "# 1. Description of dataset and data cleaning"
      ]
    },
    {
      "cell_type": "markdown",
      "metadata": {
        "id": "-e3ZOgOZwdGf"
      },
      "source": [
        "### Explanation of the columns:\n",
        "\n",
        "*   SURVIVAL - Survival (0 = No; 1 = Yes)\n",
        "*   CLASS - Passenger Class (1 = 1st; 2 = 2nd; 3 = 3rd)\n",
        "*   NAME - Name (Surname, title. Name)\n",
        "*   SEX - Sex (male or female)\n",
        "*   AGE - Age\n",
        "*   SIBSP - Number of Siblings/Spouses Aboard\n",
        "*   PARCH - Number of Parents/Children Aboard\n",
        "*   TICKET - Ticket Number\n",
        "*   FARE - Passenger Fare (how much they paid)\n",
        "*   CABIN - Cabin\n",
        "*   EMBARKED - Port of Embarkation (C = Cherbourg; Q = Queenstown; S = Southampton)"
      ]
    },
    {
      "cell_type": "code",
      "metadata": {
        "colab": {
          "base_uri": "https://localhost:8080/",
          "height": 422
        },
        "id": "IwXJeOHVshSG",
        "outputId": "d4e78693-5135-4c51-c40b-67ba39dff893"
      },
      "source": [
        "titanic_df"
      ],
      "execution_count": 3,
      "outputs": [
        {
          "output_type": "execute_result",
          "data": {
            "text/html": [
              "<div>\n",
              "<style scoped>\n",
              "    .dataframe tbody tr th:only-of-type {\n",
              "        vertical-align: middle;\n",
              "    }\n",
              "\n",
              "    .dataframe tbody tr th {\n",
              "        vertical-align: top;\n",
              "    }\n",
              "\n",
              "    .dataframe thead th {\n",
              "        text-align: right;\n",
              "    }\n",
              "</style>\n",
              "<table border=\"1\" class=\"dataframe\">\n",
              "  <thead>\n",
              "    <tr style=\"text-align: right;\">\n",
              "      <th></th>\n",
              "      <th>PASSENGERID</th>\n",
              "      <th>SURVIVED</th>\n",
              "      <th>PCLASS</th>\n",
              "      <th>NAME</th>\n",
              "      <th>SEX</th>\n",
              "      <th>AGE</th>\n",
              "      <th>SIBSP</th>\n",
              "      <th>PARCH</th>\n",
              "      <th>TICKET</th>\n",
              "      <th>FARE</th>\n",
              "      <th>CABIN</th>\n",
              "      <th>EMBARKED</th>\n",
              "    </tr>\n",
              "  </thead>\n",
              "  <tbody>\n",
              "    <tr>\n",
              "      <th>0</th>\n",
              "      <td>1</td>\n",
              "      <td>0</td>\n",
              "      <td>3</td>\n",
              "      <td>Braund, Mr. Owen Harris</td>\n",
              "      <td>male</td>\n",
              "      <td>22.0</td>\n",
              "      <td>1</td>\n",
              "      <td>0</td>\n",
              "      <td>A/5 21171</td>\n",
              "      <td>7.2500</td>\n",
              "      <td>NaN</td>\n",
              "      <td>S</td>\n",
              "    </tr>\n",
              "    <tr>\n",
              "      <th>1</th>\n",
              "      <td>2</td>\n",
              "      <td>1</td>\n",
              "      <td>1</td>\n",
              "      <td>Cumings, Mrs. John Bradley (Florence Briggs Th...</td>\n",
              "      <td>female</td>\n",
              "      <td>38.0</td>\n",
              "      <td>1</td>\n",
              "      <td>0</td>\n",
              "      <td>PC 17599</td>\n",
              "      <td>71.2833</td>\n",
              "      <td>C85</td>\n",
              "      <td>C</td>\n",
              "    </tr>\n",
              "    <tr>\n",
              "      <th>2</th>\n",
              "      <td>3</td>\n",
              "      <td>1</td>\n",
              "      <td>3</td>\n",
              "      <td>Heikkinen, Miss. Laina</td>\n",
              "      <td>female</td>\n",
              "      <td>26.0</td>\n",
              "      <td>0</td>\n",
              "      <td>0</td>\n",
              "      <td>STON/O2. 3101282</td>\n",
              "      <td>7.9250</td>\n",
              "      <td>NaN</td>\n",
              "      <td>S</td>\n",
              "    </tr>\n",
              "    <tr>\n",
              "      <th>3</th>\n",
              "      <td>4</td>\n",
              "      <td>1</td>\n",
              "      <td>1</td>\n",
              "      <td>Futrelle, Mrs. Jacques Heath (Lily May Peel)</td>\n",
              "      <td>female</td>\n",
              "      <td>35.0</td>\n",
              "      <td>1</td>\n",
              "      <td>0</td>\n",
              "      <td>113803</td>\n",
              "      <td>53.1000</td>\n",
              "      <td>C123</td>\n",
              "      <td>S</td>\n",
              "    </tr>\n",
              "    <tr>\n",
              "      <th>4</th>\n",
              "      <td>5</td>\n",
              "      <td>0</td>\n",
              "      <td>3</td>\n",
              "      <td>Allen, Mr. William Henry</td>\n",
              "      <td>male</td>\n",
              "      <td>35.0</td>\n",
              "      <td>0</td>\n",
              "      <td>0</td>\n",
              "      <td>373450</td>\n",
              "      <td>8.0500</td>\n",
              "      <td>NaN</td>\n",
              "      <td>S</td>\n",
              "    </tr>\n",
              "    <tr>\n",
              "      <th>...</th>\n",
              "      <td>...</td>\n",
              "      <td>...</td>\n",
              "      <td>...</td>\n",
              "      <td>...</td>\n",
              "      <td>...</td>\n",
              "      <td>...</td>\n",
              "      <td>...</td>\n",
              "      <td>...</td>\n",
              "      <td>...</td>\n",
              "      <td>...</td>\n",
              "      <td>...</td>\n",
              "      <td>...</td>\n",
              "    </tr>\n",
              "    <tr>\n",
              "      <th>886</th>\n",
              "      <td>887</td>\n",
              "      <td>0</td>\n",
              "      <td>2</td>\n",
              "      <td>Montvila, Rev. Juozas</td>\n",
              "      <td>male</td>\n",
              "      <td>27.0</td>\n",
              "      <td>0</td>\n",
              "      <td>0</td>\n",
              "      <td>211536</td>\n",
              "      <td>13.0000</td>\n",
              "      <td>NaN</td>\n",
              "      <td>S</td>\n",
              "    </tr>\n",
              "    <tr>\n",
              "      <th>887</th>\n",
              "      <td>888</td>\n",
              "      <td>1</td>\n",
              "      <td>1</td>\n",
              "      <td>Graham, Miss. Margaret Edith</td>\n",
              "      <td>female</td>\n",
              "      <td>19.0</td>\n",
              "      <td>0</td>\n",
              "      <td>0</td>\n",
              "      <td>112053</td>\n",
              "      <td>30.0000</td>\n",
              "      <td>B42</td>\n",
              "      <td>S</td>\n",
              "    </tr>\n",
              "    <tr>\n",
              "      <th>888</th>\n",
              "      <td>889</td>\n",
              "      <td>0</td>\n",
              "      <td>3</td>\n",
              "      <td>Johnston, Miss. Catherine Helen \"Carrie\"</td>\n",
              "      <td>female</td>\n",
              "      <td>NaN</td>\n",
              "      <td>1</td>\n",
              "      <td>2</td>\n",
              "      <td>W./C. 6607</td>\n",
              "      <td>23.4500</td>\n",
              "      <td>NaN</td>\n",
              "      <td>S</td>\n",
              "    </tr>\n",
              "    <tr>\n",
              "      <th>889</th>\n",
              "      <td>890</td>\n",
              "      <td>1</td>\n",
              "      <td>1</td>\n",
              "      <td>Behr, Mr. Karl Howell</td>\n",
              "      <td>male</td>\n",
              "      <td>26.0</td>\n",
              "      <td>0</td>\n",
              "      <td>0</td>\n",
              "      <td>111369</td>\n",
              "      <td>30.0000</td>\n",
              "      <td>C148</td>\n",
              "      <td>C</td>\n",
              "    </tr>\n",
              "    <tr>\n",
              "      <th>890</th>\n",
              "      <td>891</td>\n",
              "      <td>0</td>\n",
              "      <td>3</td>\n",
              "      <td>Dooley, Mr. Patrick</td>\n",
              "      <td>male</td>\n",
              "      <td>32.0</td>\n",
              "      <td>0</td>\n",
              "      <td>0</td>\n",
              "      <td>370376</td>\n",
              "      <td>7.7500</td>\n",
              "      <td>NaN</td>\n",
              "      <td>Q</td>\n",
              "    </tr>\n",
              "  </tbody>\n",
              "</table>\n",
              "<p>891 rows × 12 columns</p>\n",
              "</div>"
            ],
            "text/plain": [
              "     PASSENGERID  SURVIVED  PCLASS  ...     FARE CABIN  EMBARKED\n",
              "0              1         0       3  ...   7.2500   NaN         S\n",
              "1              2         1       1  ...  71.2833   C85         C\n",
              "2              3         1       3  ...   7.9250   NaN         S\n",
              "3              4         1       1  ...  53.1000  C123         S\n",
              "4              5         0       3  ...   8.0500   NaN         S\n",
              "..           ...       ...     ...  ...      ...   ...       ...\n",
              "886          887         0       2  ...  13.0000   NaN         S\n",
              "887          888         1       1  ...  30.0000   B42         S\n",
              "888          889         0       3  ...  23.4500   NaN         S\n",
              "889          890         1       1  ...  30.0000  C148         C\n",
              "890          891         0       3  ...   7.7500   NaN         Q\n",
              "\n",
              "[891 rows x 12 columns]"
            ]
          },
          "metadata": {},
          "execution_count": 3
        }
      ]
    },
    {
      "cell_type": "code",
      "metadata": {
        "colab": {
          "base_uri": "https://localhost:8080/"
        },
        "id": "f1fyLHLqsp3e",
        "outputId": "01437674-0528-43bd-dfbd-ddca9232b015"
      },
      "source": [
        "titanic_df.info()"
      ],
      "execution_count": 4,
      "outputs": [
        {
          "output_type": "stream",
          "name": "stdout",
          "text": [
            "<class 'pandas.core.frame.DataFrame'>\n",
            "RangeIndex: 891 entries, 0 to 890\n",
            "Data columns (total 12 columns):\n",
            " #   Column       Non-Null Count  Dtype  \n",
            "---  ------       --------------  -----  \n",
            " 0   PASSENGERID  891 non-null    int64  \n",
            " 1   SURVIVED     891 non-null    int64  \n",
            " 2   PCLASS       891 non-null    int64  \n",
            " 3   NAME         891 non-null    object \n",
            " 4   SEX          891 non-null    object \n",
            " 5   AGE          714 non-null    float64\n",
            " 6   SIBSP        891 non-null    int64  \n",
            " 7   PARCH        891 non-null    int64  \n",
            " 8   TICKET       891 non-null    object \n",
            " 9   FARE         891 non-null    float64\n",
            " 10  CABIN        204 non-null    object \n",
            " 11  EMBARKED     889 non-null    object \n",
            "dtypes: float64(2), int64(5), object(5)\n",
            "memory usage: 83.7+ KB\n"
          ]
        }
      ]
    },
    {
      "cell_type": "markdown",
      "metadata": {
        "id": "a0j7EfizwE60"
      },
      "source": [
        "There are 891 rows, we can see there are multiple null values in columns : AGE, CABIN and EMBARKED. Let's fill it with mean values for numeric datatypes and empty values for others."
      ]
    },
    {
      "cell_type": "code",
      "metadata": {
        "colab": {
          "base_uri": "https://localhost:8080/"
        },
        "id": "593ej34OwW82",
        "outputId": "4b3c6530-1679-4f85-e94b-0f96ad1bcc9f"
      },
      "source": [
        "def fill_nans(column):\n",
        "    nans = column[column.isnull()]\n",
        "    nans_no = len(nans)\n",
        "    if nans_no > 0:\n",
        "        print(column.name, nans_no)\n",
        "        if column.dtype == 'int64' or column.dtype == 'float64': #for numeric type fill NaNs with mean of the column\n",
        "            column = column.fillna(column.mean())\n",
        "            #column = column.fillna(0)\n",
        "        else: #for other type of NaNs, leave field empy\n",
        "            column = column.fillna('')\n",
        "    return column\n",
        "    \n",
        "titanic_df = titanic_df.apply(fill_nans)"
      ],
      "execution_count": 5,
      "outputs": [
        {
          "output_type": "stream",
          "name": "stdout",
          "text": [
            "AGE 177\n",
            "CABIN 687\n",
            "EMBARKED 2\n"
          ]
        }
      ]
    },
    {
      "cell_type": "markdown",
      "metadata": {
        "id": "jevCg3jbAsrU"
      },
      "source": [
        "### Factorizing categorical variables\n",
        "It may be easier to handle data with boolean values (0 or 1) than a string ones"
      ]
    },
    {
      "cell_type": "code",
      "metadata": {
        "id": "kIsIjSjAAxua"
      },
      "source": [
        "for colname in ['SEX','PCLASS','EMBARKED']:\n",
        "    column = titanic_df[colname] \n",
        "    labels, uniques = pd.factorize(column) #changing attribute into factor\n",
        "    for i, category in enumerate(uniques):\n",
        "        try:\n",
        "            category = category.upper()\n",
        "        except:\n",
        "            pass\n",
        "    \n",
        "        newcolname= \"IS_{}_{}\".format(colname, category)\n",
        "        titanic_df[newcolname] = labels == i"
      ],
      "execution_count": 6,
      "outputs": []
    },
    {
      "cell_type": "code",
      "metadata": {
        "colab": {
          "base_uri": "https://localhost:8080/"
        },
        "id": "uAlM4ZqeAzxw",
        "outputId": "1547e3ec-2b1f-4e51-c8fb-892ab959e81b"
      },
      "source": [
        "titanic_df.dtypes"
      ],
      "execution_count": 7,
      "outputs": [
        {
          "output_type": "execute_result",
          "data": {
            "text/plain": [
              "PASSENGERID        int64\n",
              "SURVIVED           int64\n",
              "PCLASS             int64\n",
              "NAME              object\n",
              "SEX               object\n",
              "AGE              float64\n",
              "SIBSP              int64\n",
              "PARCH              int64\n",
              "TICKET            object\n",
              "FARE             float64\n",
              "CABIN             object\n",
              "EMBARKED          object\n",
              "IS_SEX_MALE         bool\n",
              "IS_SEX_FEMALE       bool\n",
              "IS_PCLASS_3         bool\n",
              "IS_PCLASS_1         bool\n",
              "IS_PCLASS_2         bool\n",
              "IS_EMBARKED_S       bool\n",
              "IS_EMBARKED_C       bool\n",
              "IS_EMBARKED_Q       bool\n",
              "IS_EMBARKED_        bool\n",
              "dtype: object"
            ]
          },
          "metadata": {},
          "execution_count": 7
        }
      ]
    },
    {
      "cell_type": "markdown",
      "metadata": {
        "id": "2cANNEMhzanJ"
      },
      "source": [
        "# 2. Exploration of dataset"
      ]
    },
    {
      "cell_type": "markdown",
      "metadata": {
        "id": "D7TwdhsYznO_"
      },
      "source": [
        "### Learning from the description\n",
        "\n",
        "We can see that only 38% of passengers survived, average age was 29,5 years and majority of passengers traveled alone (without siblings/spouses and parents/children)"
      ]
    },
    {
      "cell_type": "code",
      "metadata": {
        "colab": {
          "base_uri": "https://localhost:8080/",
          "height": 299
        },
        "id": "tEyeuLsvtUPb",
        "outputId": "96e2471e-0d35-429c-a098-be2c7ed32461"
      },
      "source": [
        "titanic_df.describe()"
      ],
      "execution_count": 8,
      "outputs": [
        {
          "output_type": "execute_result",
          "data": {
            "text/html": [
              "<div>\n",
              "<style scoped>\n",
              "    .dataframe tbody tr th:only-of-type {\n",
              "        vertical-align: middle;\n",
              "    }\n",
              "\n",
              "    .dataframe tbody tr th {\n",
              "        vertical-align: top;\n",
              "    }\n",
              "\n",
              "    .dataframe thead th {\n",
              "        text-align: right;\n",
              "    }\n",
              "</style>\n",
              "<table border=\"1\" class=\"dataframe\">\n",
              "  <thead>\n",
              "    <tr style=\"text-align: right;\">\n",
              "      <th></th>\n",
              "      <th>PASSENGERID</th>\n",
              "      <th>SURVIVED</th>\n",
              "      <th>PCLASS</th>\n",
              "      <th>AGE</th>\n",
              "      <th>SIBSP</th>\n",
              "      <th>PARCH</th>\n",
              "      <th>FARE</th>\n",
              "    </tr>\n",
              "  </thead>\n",
              "  <tbody>\n",
              "    <tr>\n",
              "      <th>count</th>\n",
              "      <td>891.000000</td>\n",
              "      <td>891.000000</td>\n",
              "      <td>891.000000</td>\n",
              "      <td>891.000000</td>\n",
              "      <td>891.000000</td>\n",
              "      <td>891.000000</td>\n",
              "      <td>891.000000</td>\n",
              "    </tr>\n",
              "    <tr>\n",
              "      <th>mean</th>\n",
              "      <td>446.000000</td>\n",
              "      <td>0.383838</td>\n",
              "      <td>2.308642</td>\n",
              "      <td>29.699118</td>\n",
              "      <td>0.523008</td>\n",
              "      <td>0.381594</td>\n",
              "      <td>32.204208</td>\n",
              "    </tr>\n",
              "    <tr>\n",
              "      <th>std</th>\n",
              "      <td>257.353842</td>\n",
              "      <td>0.486592</td>\n",
              "      <td>0.836071</td>\n",
              "      <td>13.002015</td>\n",
              "      <td>1.102743</td>\n",
              "      <td>0.806057</td>\n",
              "      <td>49.693429</td>\n",
              "    </tr>\n",
              "    <tr>\n",
              "      <th>min</th>\n",
              "      <td>1.000000</td>\n",
              "      <td>0.000000</td>\n",
              "      <td>1.000000</td>\n",
              "      <td>0.420000</td>\n",
              "      <td>0.000000</td>\n",
              "      <td>0.000000</td>\n",
              "      <td>0.000000</td>\n",
              "    </tr>\n",
              "    <tr>\n",
              "      <th>25%</th>\n",
              "      <td>223.500000</td>\n",
              "      <td>0.000000</td>\n",
              "      <td>2.000000</td>\n",
              "      <td>22.000000</td>\n",
              "      <td>0.000000</td>\n",
              "      <td>0.000000</td>\n",
              "      <td>7.910400</td>\n",
              "    </tr>\n",
              "    <tr>\n",
              "      <th>50%</th>\n",
              "      <td>446.000000</td>\n",
              "      <td>0.000000</td>\n",
              "      <td>3.000000</td>\n",
              "      <td>29.699118</td>\n",
              "      <td>0.000000</td>\n",
              "      <td>0.000000</td>\n",
              "      <td>14.454200</td>\n",
              "    </tr>\n",
              "    <tr>\n",
              "      <th>75%</th>\n",
              "      <td>668.500000</td>\n",
              "      <td>1.000000</td>\n",
              "      <td>3.000000</td>\n",
              "      <td>35.000000</td>\n",
              "      <td>1.000000</td>\n",
              "      <td>0.000000</td>\n",
              "      <td>31.000000</td>\n",
              "    </tr>\n",
              "    <tr>\n",
              "      <th>max</th>\n",
              "      <td>891.000000</td>\n",
              "      <td>1.000000</td>\n",
              "      <td>3.000000</td>\n",
              "      <td>80.000000</td>\n",
              "      <td>8.000000</td>\n",
              "      <td>6.000000</td>\n",
              "      <td>512.329200</td>\n",
              "    </tr>\n",
              "  </tbody>\n",
              "</table>\n",
              "</div>"
            ],
            "text/plain": [
              "       PASSENGERID    SURVIVED      PCLASS  ...       SIBSP       PARCH        FARE\n",
              "count   891.000000  891.000000  891.000000  ...  891.000000  891.000000  891.000000\n",
              "mean    446.000000    0.383838    2.308642  ...    0.523008    0.381594   32.204208\n",
              "std     257.353842    0.486592    0.836071  ...    1.102743    0.806057   49.693429\n",
              "min       1.000000    0.000000    1.000000  ...    0.000000    0.000000    0.000000\n",
              "25%     223.500000    0.000000    2.000000  ...    0.000000    0.000000    7.910400\n",
              "50%     446.000000    0.000000    3.000000  ...    0.000000    0.000000   14.454200\n",
              "75%     668.500000    1.000000    3.000000  ...    1.000000    0.000000   31.000000\n",
              "max     891.000000    1.000000    3.000000  ...    8.000000    6.000000  512.329200\n",
              "\n",
              "[8 rows x 7 columns]"
            ]
          },
          "metadata": {},
          "execution_count": 8
        }
      ]
    },
    {
      "cell_type": "markdown",
      "metadata": {
        "id": "pK6APX-B4nbL"
      },
      "source": [
        "We can see from the graphs below that age follows semi-normal distribution, but sibligns/spuses, parents/children or fare do not."
      ]
    },
    {
      "cell_type": "code",
      "metadata": {
        "colab": {
          "base_uri": "https://localhost:8080/",
          "height": 1000
        },
        "id": "MDav64lVt6Kx",
        "outputId": "37073bfd-e323-4481-864c-ff7dc0ace949"
      },
      "source": [
        "# histograms of numerical data\n",
        "\n",
        "for column in ['AGE', 'SIBSP', 'PARCH', 'FARE']:\n",
        "  plt.hist(titanic_df[column])\n",
        "  plt.title(column)\n",
        "  plt.show()"
      ],
      "execution_count": 9,
      "outputs": [
        {
          "output_type": "display_data",
          "data": {
            "image/png": "[encoded data removed]",
            "text/plain": [
              "<Figure size 432x288 with 1 Axes>"
            ]
          },
          "metadata": {
            "needs_background": "light"
          }
        },
        {
          "output_type": "display_data",
          "data": {
            "image/png": "[encoded data removed]",
            "text/plain": [
              "<Figure size 432x288 with 1 Axes>"
            ]
          },
          "metadata": {
            "needs_background": "light"
          }
        },
        {
          "output_type": "display_data",
          "data": {
            "image/png": "[encoded data removed]",
            "text/plain": [
              "<Figure size 432x288 with 1 Axes>"
            ]
          },
          "metadata": {
            "needs_background": "light"
          }
        },
        {
          "output_type": "display_data",
          "data": {
            "image/png": "[encoded data removed]",
            "text/plain": [
              "<Figure size 432x288 with 1 Axes>"
            ]
          },
          "metadata": {
            "needs_background": "light"
          }
        }
      ]
    },
    {
      "cell_type": "markdown",
      "metadata": {
        "id": "TYjE-9g76pyZ"
      },
      "source": [
        "We can see that number of parents/children correlates with number of siblings/spuses on board. There are also light correlations between fare and age, number of siblings/spouses or parents/children. Age has a light negative correlation with number of siblings/spouses or parents/children."
      ]
    },
    {
      "cell_type": "code",
      "metadata": {
        "colab": {
          "base_uri": "https://localhost:8080/",
          "height": 378
        },
        "id": "lT0nM0L56Xn3",
        "outputId": "067faff5-6730-45c8-c8de-a1214562c72f"
      },
      "source": [
        "print(titanic_df[['AGE', 'SIBSP', 'PARCH', 'FARE']].corr())\n",
        "sns.heatmap(titanic_df[['AGE', 'SIBSP', 'PARCH', 'FARE']].corr())"
      ],
      "execution_count": 10,
      "outputs": [
        {
          "output_type": "stream",
          "name": "stdout",
          "text": [
            "            AGE     SIBSP     PARCH      FARE\n",
            "AGE    1.000000 -0.232625 -0.179191  0.091566\n",
            "SIBSP -0.232625  1.000000  0.414838  0.159651\n",
            "PARCH -0.179191  0.414838  1.000000  0.216225\n",
            "FARE   0.091566  0.159651  0.216225  1.000000\n"
          ]
        },
        {
          "output_type": "execute_result",
          "data": {
            "text/plain": [
              "<matplotlib.axes._subplots.AxesSubplot at 0x7f7dbd7ac9d0>"
            ]
          },
          "metadata": {},
          "execution_count": 10
        },
        {
          "output_type": "display_data",
          "data": {
            "image/png": "[encoded data removed]",
            "text/plain": [
              "<Figure size 432x288 with 2 Axes>"
            ]
          },
          "metadata": {
            "needs_background": "light"
          }
        }
      ]
    },
    {
      "cell_type": "markdown",
      "metadata": {
        "id": "XyITB2MP8mB2"
      },
      "source": [
        "From the categorical graphs below we cen see:\n",
        "* Most people didnt survive (survival rate is 38%)\n",
        "* Most passengers traveled in 3rd class. Number of passengers in 1st and 2nd class is similar\n",
        "* around 2/3 of passengers were male\n",
        "* most passengers embarked in Southampton"
      ]
    },
    {
      "cell_type": "code",
      "metadata": {
        "colab": {
          "base_uri": "https://localhost:8080/",
          "height": 1000
        },
        "id": "o-oH_2UDu3el",
        "outputId": "6954f37a-b84f-461f-e6e3-0c429a844fa9"
      },
      "source": [
        "for column in ['SURVIVED', 'PCLASS', 'SEX', 'EMBARKED']:\n",
        "  sns.barplot(x=titanic_df[column].value_counts().index, y=titanic_df[column].value_counts())\n",
        "  plt.title(column)\n",
        "  plt.show()"
      ],
      "execution_count": 11,
      "outputs": [
        {
          "output_type": "display_data",
          "data": {
            "image/png": "[encoded data removed]",
            "text/plain": [
              "<Figure size 432x288 with 1 Axes>"
            ]
          },
          "metadata": {
            "needs_background": "light"
          }
        },
        {
          "output_type": "display_data",
          "data": {
            "image/png": "[encoded data removed]",
            "text/plain": [
              "<Figure size 432x288 with 1 Axes>"
            ]
          },
          "metadata": {
            "needs_background": "light"
          }
        },
        {
          "output_type": "display_data",
          "data": {
            "image/png": "[encoded data removed]",
            "text/plain": [
              "<Figure size 432x288 with 1 Axes>"
            ]
          },
          "metadata": {
            "needs_background": "light"
          }
        },
        {
          "output_type": "display_data",
          "data": {
            "image/png": "[encoded data removed]",
            "text/plain": [
              "<Figure size 432x288 with 1 Axes>"
            ]
          },
          "metadata": {
            "needs_background": "light"
          }
        }
      ]
    },
    {
      "cell_type": "markdown",
      "metadata": {
        "id": "Ox-v4XBIGdKp"
      },
      "source": [
        "### Correlations between survival and other variables\n",
        "* Women had much greater chance of surviving than men\n",
        "* First class and high fare had greater chance of surviving\n",
        "* 3rd class passengers had much smaller chances of surviving\n",
        "* Emarkation in Cherbourgh has positive correlation with survival\n",
        "* Emarkation in Southampton has negative correlation with survival\n",
        "* Age has a slight negative correlation with survival\n"
      ]
    },
    {
      "cell_type": "code",
      "metadata": {
        "id": "kaNj9TgF9vMW",
        "colab": {
          "base_uri": "https://localhost:8080/",
          "height": 295
        },
        "outputId": "e5257b1a-ff2e-40d7-e697-1815ca4bc79d"
      },
      "source": [
        "corr_df = titanic_df.corr()['SURVIVED']\n",
        "corr_df = corr_df.drop(['PASSENGERID','SURVIVED'])\n",
        "\n",
        "plot = corr_df.plot(kind='barh',\n",
        "                    title='Correlations between survival and other variables',\n",
        "                    legend=False)\n",
        "\n",
        "plot.set_xlabel('Correlations'); \n",
        "plot.set_ylabel('Variable name');"
      ],
      "execution_count": 12,
      "outputs": [
        {
          "output_type": "display_data",
          "data": {
            "image/png": "[encoded data removed]",
            "text/plain": [
              "<Figure size 432x288 with 1 Axes>"
            ]
          },
          "metadata": {
            "needs_background": "light"
          }
        }
      ]
    },
    {
      "cell_type": "code",
      "metadata": {
        "id": "tD4d0c9wl9tX"
      },
      "source": [
        "survived_df = titanic_df.loc[titanic_df['SURVIVED'] == 1, :]\n",
        "died_df = titanic_df.loc[titanic_df['SURVIVED'] == 0, :]"
      ],
      "execution_count": 15,
      "outputs": []
    },
    {
      "cell_type": "markdown",
      "metadata": {
        "id": "wvXaJwLZ-YPE"
      },
      "source": [
        "### Age distribution by survival\n",
        "\n",
        "The median of age seems to be similar for people who survived and died. However, age of people who survived has a greater spread. The youngest and oldest had a greater chance of survival."
      ]
    },
    {
      "cell_type": "code",
      "metadata": {
        "colab": {
          "base_uri": "https://localhost:8080/",
          "height": 458
        },
        "id": "Z2JmvzZl7qA2",
        "outputId": "0aee0bca-fe86-434d-a88b-9f4186f49d73"
      },
      "source": [
        "plt.figure(figsize=(10,7))\n",
        "plt.boxplot([survived_df['AGE'], died_df['AGE']], sym=''); \n",
        "plt.title('Age distribution by survival');\n",
        "plt.xticks([1,2], ['Survived', 'Died']);\n",
        "plt.ylabel(\"Age distribution\");\n",
        "plt.xlabel(\"Survival\");"
      ],
      "execution_count": 34,
      "outputs": [
        {
          "output_type": "display_data",
          "data": {
            "image/png": "[encoded data removed]",
            "text/plain": [
              "<Figure size 720x504 with 1 Axes>"
            ]
          },
          "metadata": {
            "needs_background": "light"
          }
        }
      ]
    },
    {
      "cell_type": "code",
      "metadata": {
        "id": "0dHvkKdi7q34"
      },
      "source": [
        ""
      ],
      "execution_count": null,
      "outputs": []
    }
  ]
}